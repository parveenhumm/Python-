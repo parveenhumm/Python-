{
  "nbformat": 4,
  "nbformat_minor": 0,
  "metadata": {
    "colab": {
      "provenance": []
    },
    "kernelspec": {
      "name": "python3",
      "display_name": "Python 3"
    },
    "language_info": {
      "name": "python"
    }
  },
  "cells": [
    {
      "cell_type": "code",
      "execution_count": 3,
      "metadata": {
        "colab": {
          "base_uri": "https://localhost:8080/",
          "height": 35
        },
        "id": "U-lajSDs95y3",
        "outputId": "5adbcab4-981e-497f-ee9b-84cc92886597"
      },
      "outputs": [
        {
          "output_type": "execute_result",
          "data": {
            "text/plain": [
              "'HUMAIRA PARVEEN'"
            ],
            "application/vnd.google.colaboratory.intrinsic+json": {
              "type": "string"
            }
          },
          "metadata": {},
          "execution_count": 3
        }
      ],
      "source": [
        "name = \"HUMAIRA PARVEEN\"\n",
        "name"
      ]
    },
    {
      "cell_type": "code",
      "source": [
        " age = 20\n",
        " age"
      ],
      "metadata": {
        "colab": {
          "base_uri": "https://localhost:8080/"
        },
        "id": "-ZRPR-Li-a1q",
        "outputId": "7e910ea8-cf5d-4943-a5d9-efb67ea4d56d"
      },
      "execution_count": 5,
      "outputs": [
        {
          "output_type": "execute_result",
          "data": {
            "text/plain": [
              "20"
            ]
          },
          "metadata": {},
          "execution_count": 5
        }
      ]
    },
    {
      "cell_type": "code",
      "source": [
        "2 + 2\n"
      ],
      "metadata": {
        "colab": {
          "base_uri": "https://localhost:8080/"
        },
        "id": "kSs4RUoF-nOD",
        "outputId": "5a21e4d1-46af-456a-a1af-e7f74fadff82"
      },
      "execution_count": 7,
      "outputs": [
        {
          "output_type": "execute_result",
          "data": {
            "text/plain": [
              "4"
            ]
          },
          "metadata": {},
          "execution_count": 7
        }
      ]
    },
    {
      "cell_type": "code",
      "source": [
        "4 - 2"
      ],
      "metadata": {
        "colab": {
          "base_uri": "https://localhost:8080/"
        },
        "id": "X-VMdVF1_0VD",
        "outputId": "75dd0c2b-d4bb-480b-e2bf-f61b222a3255"
      },
      "execution_count": 9,
      "outputs": [
        {
          "output_type": "execute_result",
          "data": {
            "text/plain": [
              "2"
            ]
          },
          "metadata": {},
          "execution_count": 9
        }
      ]
    },
    {
      "cell_type": "code",
      "source": [
        "12 % 3\n"
      ],
      "metadata": {
        "colab": {
          "base_uri": "https://localhost:8080/"
        },
        "id": "PPSkT1Q7ANSs",
        "outputId": "b82aaf93-d6a8-4b49-ada3-252718bdacc3"
      },
      "execution_count": 11,
      "outputs": [
        {
          "output_type": "execute_result",
          "data": {
            "text/plain": [
              "0"
            ]
          },
          "metadata": {},
          "execution_count": 11
        }
      ]
    },
    {
      "cell_type": "code",
      "source": [
        "Age = 12 \n",
        "Age + 1\n"
      ],
      "metadata": {
        "colab": {
          "base_uri": "https://localhost:8080/"
        },
        "id": "DFJRDy_7BHkq",
        "outputId": "59f0bbb5-940e-4018-9faa-e915e116a40d"
      },
      "execution_count": 17,
      "outputs": [
        {
          "output_type": "execute_result",
          "data": {
            "text/plain": [
              "13"
            ]
          },
          "metadata": {},
          "execution_count": 17
        }
      ]
    },
    {
      "cell_type": "code",
      "source": [
        "Age"
      ],
      "metadata": {
        "colab": {
          "base_uri": "https://localhost:8080/"
        },
        "id": "x0cSVz4cBObj",
        "outputId": "37f2d164-c718-43b4-999a-c728ca752879"
      },
      "execution_count": 18,
      "outputs": [
        {
          "output_type": "execute_result",
          "data": {
            "text/plain": [
              "12"
            ]
          },
          "metadata": {},
          "execution_count": 18
        }
      ]
    },
    {
      "cell_type": "code",
      "source": [
        "Age += 1\n",
        "Age\n"
      ],
      "metadata": {
        "colab": {
          "base_uri": "https://localhost:8080/"
        },
        "id": "uC5ee8YNBjbS",
        "outputId": "c825a293-f322-4a15-8852-456741af0dbd"
      },
      "execution_count": 26,
      "outputs": [
        {
          "output_type": "execute_result",
          "data": {
            "text/plain": [
              "17"
            ]
          },
          "metadata": {},
          "execution_count": 26
        }
      ]
    },
    {
      "cell_type": "code",
      "source": [
        "Age -= 4\n",
        "Age"
      ],
      "metadata": {
        "colab": {
          "base_uri": "https://localhost:8080/"
        },
        "id": "tGOrGqJ-B6eB",
        "outputId": "5988870f-6f12-4cb8-af20-121ca842b5b4"
      },
      "execution_count": 30,
      "outputs": [
        {
          "output_type": "execute_result",
          "data": {
            "text/plain": [
              "1"
            ]
          },
          "metadata": {},
          "execution_count": 30
        }
      ]
    },
    {
      "cell_type": "code",
      "source": [
        "first_name = \"HUMA\"\n",
        "last_name =  \"IRA\"\n",
        "print(first_name + last_name)\n",
        "FULLNAME = first_name + last_name"
      ],
      "metadata": {
        "colab": {
          "base_uri": "https://localhost:8080/"
        },
        "id": "4AIS69ryCHih",
        "outputId": "bc18b51e-ba57-4875-9281-c0f876d96a58"
      },
      "execution_count": 38,
      "outputs": [
        {
          "output_type": "stream",
          "name": "stdout",
          "text": [
            "HUMAIRA\n"
          ]
        }
      ]
    },
    {
      "cell_type": "code",
      "source": [
        "age = 20\n",
        "if age == 20:\n",
        " print(\"Ok\")\n",
        "else:\n",
        " print(\"NOT OK\")"
      ],
      "metadata": {
        "colab": {
          "base_uri": "https://localhost:8080/"
        },
        "id": "DJkvk8nrJGjZ",
        "outputId": "b080d31e-cafd-4a8d-a61e-b2d4cd8621d8"
      },
      "execution_count": 48,
      "outputs": [
        {
          "output_type": "stream",
          "name": "stdout",
          "text": [
            "Ok\n"
          ]
        }
      ]
    },
    {
      "cell_type": "code",
      "source": [
        "   age = 20 \n",
        "   if age == 20:\n",
        "     print(\"abc\")\n",
        "   elif age ==30:\n",
        "     print(\"def\")\n",
        "   else:\n",
        "     print(\"xyz\")   "
      ],
      "metadata": {
        "colab": {
          "base_uri": "https://localhost:8080/"
        },
        "id": "Fpey5njGJ61k",
        "outputId": "64d08006-bf31-4c34-9f9a-3da924750615"
      },
      "execution_count": 55,
      "outputs": [
        {
          "output_type": "stream",
          "name": "stdout",
          "text": [
            "abc\n"
          ]
        }
      ]
    },
    {
      "cell_type": "code",
      "source": [
        "age = 20\n",
        "if age == 20:\n",
        "  print(\"abc\")\n",
        "  if age ==20:\n",
        "    print(\"xyz\")\n",
        "  else:\n",
        "    print(\"none\")"
      ],
      "metadata": {
        "colab": {
          "base_uri": "https://localhost:8080/"
        },
        "id": "MHipWmYUMpvL",
        "outputId": "f334af82-da92-4775-8a85-9cfce3016538"
      },
      "execution_count": 87,
      "outputs": [
        {
          "output_type": "stream",
          "name": "stdout",
          "text": [
            "abc\n",
            "xyz\n"
          ]
        }
      ]
    },
    {
      "cell_type": "code",
      "source": [
        "age = 20\n",
        "nationality = \"PAKISTANI\"\n",
        "if age == 18:\n",
        "  if nationality == \"PAKISTANI\":\n",
        "    print(OK)\n",
        "  else:\n",
        "     print(\"NOT OK\") \n",
        "else:\n",
        "  print(\"ABCD\")"
      ],
      "metadata": {
        "colab": {
          "base_uri": "https://localhost:8080/"
        },
        "id": "UdMY_5TjNraI",
        "outputId": "0fd6f44e-83c6-481b-c25e-d7b8aea6316c"
      },
      "execution_count": 71,
      "outputs": [
        {
          "output_type": "stream",
          "name": "stdout",
          "text": [
            "ABCD\n"
          ]
        }
      ]
    },
    {
      "cell_type": "code",
      "source": [
        "0 or 1\n"
      ],
      "metadata": {
        "colab": {
          "base_uri": "https://localhost:8080/"
        },
        "id": "jnkE_yYZPIsO",
        "outputId": "8f5128e8-3759-4e8f-bb4d-304916a3d481"
      },
      "execution_count": 73,
      "outputs": [
        {
          "output_type": "execute_result",
          "data": {
            "text/plain": [
              "1"
            ]
          },
          "metadata": {},
          "execution_count": 73
        }
      ]
    },
    {
      "cell_type": "code",
      "source": [
        "0 or 0"
      ],
      "metadata": {
        "colab": {
          "base_uri": "https://localhost:8080/"
        },
        "id": "XUB8NNONTO4m",
        "outputId": "30951361-8425-4b17-a9b5-fd389364e626"
      },
      "execution_count": 75,
      "outputs": [
        {
          "output_type": "execute_result",
          "data": {
            "text/plain": [
              "0"
            ]
          },
          "metadata": {},
          "execution_count": 75
        }
      ]
    },
    {
      "cell_type": "code",
      "source": [
        "1 or 1"
      ],
      "metadata": {
        "colab": {
          "base_uri": "https://localhost:8080/"
        },
        "id": "Zx4iBD2cTWIm",
        "outputId": "528c31bb-b4f9-4a6e-b8ea-2957c08b2801"
      },
      "execution_count": 77,
      "outputs": [
        {
          "output_type": "execute_result",
          "data": {
            "text/plain": [
              "1"
            ]
          },
          "metadata": {},
          "execution_count": 77
        }
      ]
    },
    {
      "cell_type": "code",
      "source": [
        "1 and 0 or 0 and 1"
      ],
      "metadata": {
        "colab": {
          "base_uri": "https://localhost:8080/"
        },
        "id": "aJU_1xoKTYNG",
        "outputId": "2cac8d7f-c920-4204-e308-13ab1bd8ac7e"
      },
      "execution_count": 79,
      "outputs": [
        {
          "output_type": "execute_result",
          "data": {
            "text/plain": [
              "0"
            ]
          },
          "metadata": {},
          "execution_count": 79
        }
      ]
    },
    {
      "cell_type": "code",
      "source": [
        "age = 16 \n",
        "nationality = \"Pkistani\"\n",
        "if age == 18 and nationality == \"Pakistani\":\n",
        "  print(\"Ok\")\n",
        "else:\n",
        "    print(\"Not OK\")  "
      ],
      "metadata": {
        "colab": {
          "base_uri": "https://localhost:8080/"
        },
        "id": "qpfM9AxFTmjG",
        "outputId": "148dcac0-8ca6-4488-f7ea-9e53b3662a29"
      },
      "execution_count": 92,
      "outputs": [
        {
          "output_type": "stream",
          "name": "stdout",
          "text": [
            "Not OK\n"
          ]
        }
      ]
    },
    {
      "cell_type": "code",
      "source": [
        "age = 19 \n",
        "nationality = \"Pakistani\"\n",
        "if age == 19 or nationality ==\"Pakistani\":\n",
        "  print(\"Ok\")\n",
        "else:\n",
        "  print(\"Not Ok\")"
      ],
      "metadata": {
        "colab": {
          "base_uri": "https://localhost:8080/"
        },
        "id": "kqZ1duTMUm8O",
        "outputId": "ffe7f220-a4c8-47a7-c244-37e952d45881"
      },
      "execution_count": 86,
      "outputs": [
        {
          "output_type": "stream",
          "name": "stdout",
          "text": [
            "Ok\n"
          ]
        }
      ]
    }
  ]
}